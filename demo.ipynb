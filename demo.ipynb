{
 "cells": [
  {
   "cell_type": "code",
   "execution_count": 1,
   "metadata": {},
   "outputs": [],
   "source": [
    "import os\n",
    "import torch\n",
    "import sys\n",
    "\n",
    "from base64 import b64encode\n",
    "from cotracker3.utils.visualizer import Visualizer, read_video_from_path, read_frames_from_folder\n",
    "from IPython.display import HTML\n",
    "import numpy as np"
   ]
  },
  {
   "cell_type": "code",
   "execution_count": 2,
   "metadata": {},
   "outputs": [
    {
     "name": "stdout",
     "output_type": "stream",
     "text": [
      "/usr/mvl2/ksgh2/Documents/projects/PointTracking/coTracker3/co-tracker\n"
     ]
    }
   ],
   "source": [
    "%cd /usr/mvl2/ksgh2/Documents/projects/PointTracking/coTracker3/co-tracker"
   ]
  },
  {
   "cell_type": "code",
   "execution_count": 3,
   "metadata": {},
   "outputs": [],
   "source": [
    "def show_video(video_path):\n",
    "    video_file = open(video_path, \"r+b\").read()\n",
    "    video_url = f\"data:video/mp4;base64,{b64encode(video_file).decode()}\"\n",
    "    return HTML(f\"\"\"<video width=\"640\" height=\"480\" autoplay loop controls><source src=\"{video_url}\"></video>\"\"\")\n",
    "\n",
    "# show_video(\"assets/apple.mp4\")"
   ]
  },
  {
   "cell_type": "code",
   "execution_count": 4,
   "metadata": {},
   "outputs": [
    {
     "name": "stderr",
     "output_type": "stream",
     "text": [
      "/usr/mvl2/ksgh2/Documents/projects/PointTracking/coTracker3/co-tracker/cotracker3/models/build_cotracker.py:41: FutureWarning: You are using `torch.load` with `weights_only=False` (the current default value), which uses the default pickle module implicitly. It is possible to construct malicious pickle data which will execute arbitrary code during unpickling (See https://github.com/pytorch/pytorch/blob/main/SECURITY.md#untrusted-models for more details). In a future release, the default value for `weights_only` will be flipped to `True`. This limits the functions that could be executed during unpickling. Arbitrary objects will no longer be allowed to be loaded via this mode unless they are explicitly allowlisted by the user via `torch.serialization.add_safe_globals`. We recommend you start setting `weights_only=True` for any use case where you don't have full control of the loaded file. Please open an issue on GitHub for any issues related to this experimental feature.\n",
      "  state_dict = torch.load(f, map_location=\"cpu\")\n"
     ]
    }
   ],
   "source": [
    "# CoTracker 3\n",
    "from cotracker3.predictor import CoTrackerPredictor\n",
    "\n",
    "model = CoTrackerPredictor(\n",
    "    checkpoint=os.path.join(\n",
    "        'checkpoints/cotracker3_offline.pth'\n",
    "    )\n",
    ")"
   ]
  },
  {
   "cell_type": "code",
   "execution_count": 6,
   "metadata": {},
   "outputs": [
    {
     "name": "stdout",
     "output_type": "stream",
     "text": [
      "Loaded 80\n"
     ]
    }
   ],
   "source": [
    "video = read_video_from_path('/usr/mvl2/ksgh2/Documents/projects/LightFeatureTracking/results/cmphExm/aliked/aliked_horse_bailey.mp4')\n",
    "\n",
    "# video = read_frames_from_folder('/usr/mvl2/ksgh2/Documents/projects/Datasets/data/Horse_Datasets/Horse_Keegan_Oct24/stanley/image_sequences/org/2_lungeleft/')\n",
    "# video = read_frames_from_folder('/usr/mvl2/ksgh2/Documents/projects/omnimotion/preprocessing/horse-dataset/color')\n",
    "if video is not None:\n",
    "    # Separate frames from index 0 to 100\n",
    "    video = video[0:100].copy()\n",
    "    print(f\"Loaded {video.shape[0]}\")\n",
    "    video = torch.from_numpy(video).permute(0, 3, 1, 2)[None].float()\n"
   ]
  },
  {
   "cell_type": "code",
   "execution_count": 7,
   "metadata": {},
   "outputs": [],
   "source": [
    "if torch.cuda.device_count() > 1:\n",
    "    device = torch.device(\"cuda:0\")\n",
    "    torch.cuda.set_device(device)\n",
    "    model = model.to(device)\n",
    "    video = video.to(device)"
   ]
  },
  {
   "cell_type": "code",
   "execution_count": 8,
   "metadata": {},
   "outputs": [],
   "source": [
    "import torch\n",
    "\n",
    "# queries = torch.tensor([ # Stanley 2, lungeleft\n",
    "#     # [0., 635, 733],\n",
    "#     # [0., 858, 258],\n",
    "#     # [0., 236, 224]\n",
    "#     [0., 1124, 290], # Head \n",
    "#     [0., 985, 905], # Foot\n",
    "#     [0., 250, 332], # Pelvis\n",
    "#     [0., 1859, 67], # Wall 1, 0\n",
    "#     [60., 1748, 45], # Wall 2, 0\n",
    "# ])\n",
    "\n",
    "# queries = torch.tensor([ # Stanley 3, lungeright\n",
    "#     [0., 240, 215], # Head \n",
    "#     [0., 1215, 246], # Pelvis\n",
    "#     [0., 624, 884], # Foot\n",
    "# ])\n",
    "\n",
    "queries = torch.tensor([ # Bailey 3, lungeleft\n",
    "    [0., 1096, 306], # Head \n",
    "    [0., 1604, 445], # Pelvis\n",
    "    # [0., 1280, 744], # Foot\n",
    "])\n",
    "\n",
    "# queries = torch.tensor([ # Omni Video\n",
    "#     [0., 783, 235], # Head \n",
    "#     [0., 329, 335], # Pelvis\n",
    "#     [0., 959, 153], # wall\n",
    "    \n",
    "# ])\n",
    "\n",
    "if torch.cuda.is_available():\n",
    "    queries = queries.to(device)\n"
   ]
  },
  {
   "cell_type": "code",
   "execution_count": 9,
   "metadata": {},
   "outputs": [],
   "source": [
    "pred_tracks, pred_visibility = model(video, queries=queries[None])\n",
    "a = 0"
   ]
  },
  {
   "cell_type": "code",
   "execution_count": null,
   "metadata": {},
   "outputs": [],
   "source": [
    "import matplotlib.pyplot as plt\n",
    "\n",
    "\n",
    "tracks_np = pred_tracks.detach().cpu().numpy()\n",
    "\n",
    "# Remove the batch dimension (since it's 1)\n",
    "# Shape becomes: (100, 3, 2) -> (frames, points, xy)\n",
    "tracks_no_batch = tracks_np[0]\n",
    "\n",
    "# Extract the y-coordinates for all points across all frames\n",
    "# We want slice :, :, 1 -> all frames, all points, the y-coordinate (index 1)\n",
    "# Shape becomes: (100, 3) -> (frames, points)\n",
    "y_coordinates = tracks_no_batch[:, :, 1]\n",
    "loaded_smooth_signal_y1 = np.load('/usr/mvl2/ksgh2/Documents/projects/LightFeatureTracking/results/horse/smooth_signal_y1.npy')\n",
    "# loaded_smooth_signal_y1 = np.concatenate(([loaded_smooth_signal_y1[0]], loaded_smooth_signal_y1[1:] + loaded_smooth_signal_y1[:-1]))\n",
    "\n",
    "# loaded_smooth_signal_y1N = np.array([\n",
    "#     loaded_smooth_signal_y1[i] if i == 0 \n",
    "#     else loaded_smooth_signal_y1[i] + loaded_smooth_signal_y1[i-1] \n",
    "#     for i in range(len(loaded_smooth_signal_y1))\n",
    "# ])\n",
    "\n",
    "# new_sum_y1 = np.empty_like(loaded_smooth_signal_y1)\n",
    "# new_sum_y1[0] = loaded_smooth_signal_y1[0]                      # or whatever you’d like the “previous” of the 0th element to be\n",
    "# new_sum_y1[1:] = loaded_smooth_signal_y1[1:] + loaded_smooth_signal_y1[:-1]\n",
    "\n",
    "new_sum_y1 = np.cumsum(loaded_smooth_signal_y1)\n",
    "\n",
    "final_y1 = np.append(new_sum_y1, new_sum_y1[-1])\n",
    "y_coordinates_corrected = y_coordinates + final_y1[:,None] \n",
    "\n",
    "# Get the number of frames and points from the extracted data\n",
    "num_frames = y_coordinates.shape[0]\n",
    "num_points = y_coordinates.shape[1]\n",
    "\n",
    "# Create an array representing the frame numbers (0, 1, 2, ..., num_frames-1)\n",
    "frame_numbers = np.arange(num_frames)\n",
    "\n",
    "# --- 3. Plotting ---\n",
    "\n",
    "plt.figure(figsize=(12, 6)) # Adjust figure size as needed\n",
    "\n",
    "# Loop through each point track and plot its y-coordinate vs frame number\n",
    "# for i in range(num_points):\n",
    "#     plt.plot(frame_numbers, y_coordinates[:, i], label=f'Point {i+1}')\n",
    "\n",
    "\n",
    "plt.plot(frame_numbers, y_coordinates[:, 0], label='Head', linewidth=4)\n",
    "plt.plot(frame_numbers, y_coordinates_corrected[:, 0], label='Head_corrected', linewidth=4)\n",
    "\n",
    "plt.plot(frame_numbers, y_coordinates[:, 1], label='Pelvis', linewidth=4)\n",
    "plt.plot(frame_numbers, y_coordinates_corrected[:, 1], label='Pelvis_corrected', linewidth=4)\n",
    "\n",
    "plt.savefig('y_coordinates_over_time_abs.png', dpi=900, bbox_inches='tight')\n",
    "# Add labels and title\n",
    "plt.xlabel(\"Frame Number\")\n",
    "plt.ylabel(\"Y-coordinate\")\n",
    "plt.title(\"Y-coordinate of Tracked Points over Time\")\n",
    "plt.legend() # Show the legend to identify which line corresponds to which point\n",
    "plt.grid(True) # Add a grid for better readability\n",
    "plt.show()"
   ]
  },
  {
   "cell_type": "code",
   "execution_count": 25,
   "metadata": {},
   "outputs": [
    {
     "data": {
      "text/plain": [
       "(80, 2)"
      ]
     },
     "execution_count": 25,
     "metadata": {},
     "output_type": "execute_result"
    }
   ],
   "source": [
    "y_coordinates.shape"
   ]
  },
  {
   "cell_type": "code",
   "execution_count": 31,
   "metadata": {},
   "outputs": [
    {
     "data": {
      "image/png": "[encoded data removed]",
      "text/plain": [
       "<Figure size 1200x600 with 1 Axes>"
      ]
     },
     "metadata": {},
     "output_type": "display_data"
    }
   ],
   "source": [
    "\n",
    "\n",
    "plt.figure(figsize=(12, 6)) # Adjust figure size as needed\n",
    "\n",
    "# Loop through each point track and plot its y-coordinate vs frame number\n",
    "# for i in range(num_points):\n",
    "#     plt.plot(frame_numbers, y_coordinates[:, i], label=f'Point {i+1}')\n",
    "\n",
    "\n",
    "plt.plot(frame_numbers[:-1], new_sum_y1, label='Head', linewidth=4)\n",
    "\n",
    "# Add labels and title\n",
    "plt.xlabel(\"Frame Number\")\n",
    "plt.ylabel(\"Y-coordinate\")\n",
    "plt.title(\"Y-coordinate of Tracked Points over Time\")\n",
    "plt.legend() # Show the legend to identify which line corresponds to which point\n",
    "plt.grid(True) # Add a grid for better readability\n",
    "plt.show()"
   ]
  },
  {
   "cell_type": "code",
   "execution_count": 14,
   "metadata": {},
   "outputs": [
    {
     "name": "stdout",
     "output_type": "stream",
     "text": [
      "(80, 2)\n",
      "(80,)\n"
     ]
    }
   ],
   "source": [
    "print(y_coordinates.shape)\n",
    "print(loaded_smooth_signal_y1.shape)"
   ]
  },
  {
   "cell_type": "code",
   "execution_count": null,
   "metadata": {},
   "outputs": [],
   "source": [
    "vis = Visualizer(\n",
    "    save_dir='./videos',\n",
    "    linewidth=3,\n",
    "    mode='cool',\n",
    "    tracks_leave_trace=20,\n",
    "    fps=30\n",
    ")\n",
    "vis.visualize(\n",
    "    video=video,\n",
    "    tracks=pred_tracks,\n",
    "    visibility=pred_visibility,\n",
    "    filename='queries_video_co3_wall')"
   ]
  }
 ],
 "metadata": {
  "kernelspec": {
   "display_name": "pt_gpu",
   "language": "python",
   "name": "python3"
  },
  "language_info": {
   "codemirror_mode": {
    "name": "ipython",
    "version": 3
   },
   "file_extension": ".py",
   "mimetype": "text/x-python",
   "name": "python",
   "nbconvert_exporter": "python",
   "pygments_lexer": "ipython3",
   "version": "3.12.0"
  }
 },
 "nbformat": 4,
 "nbformat_minor": 2
}
